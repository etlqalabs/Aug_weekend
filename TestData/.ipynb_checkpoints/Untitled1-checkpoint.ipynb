{
 "cells": [
  {
   "cell_type": "code",
   "execution_count": 14,
   "id": "f14e4957",
   "metadata": {},
   "outputs": [
    {
     "name": "stdout",
     "output_type": "stream",
     "text": [
      "          city  employee_count\n",
      "0     New York               2\n",
      "1  Los Angeles               2\n",
      "2      Chicago               1\n"
     ]
    }
   ],
   "source": [
    "df = pd.read_csv('salaries.csv')\n",
    "\n",
    "#city_count = df['city'].value_counts().reset_index()\n",
    "city_count.columns = ['city', 'employee_count']\n",
    "#print(city_count)\n",
    "city_count = df.groupby('city')['city'].count().reset_index()\n",
    "city_count.columns = ['deptno', 'max_salary']\n",
    "print(city_count)\n",
    "\n"
   ]
  },
  {
   "cell_type": "code",
   "execution_count": null,
   "id": "20dad32e",
   "metadata": {},
   "outputs": [],
   "source": []
  }
 ],
 "metadata": {
  "kernelspec": {
   "display_name": "Python 3 (ipykernel)",
   "language": "python",
   "name": "python3"
  },
  "language_info": {
   "codemirror_mode": {
    "name": "ipython",
    "version": 3
   },
   "file_extension": ".py",
   "mimetype": "text/x-python",
   "name": "python",
   "nbconvert_exporter": "python",
   "pygments_lexer": "ipython3",
   "version": "3.10.1"
  }
 },
 "nbformat": 4,
 "nbformat_minor": 5
}
