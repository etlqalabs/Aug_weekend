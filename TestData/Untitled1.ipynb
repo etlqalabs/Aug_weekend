{
 "cells": [
  {
   "cell_type": "code",
   "execution_count": 17,
   "id": "4404dcfb",
   "metadata": {},
   "outputs": [
    {
     "name": "stdout",
     "output_type": "stream",
     "text": [
      "          city  employee_count\n",
      "0     New York               2\n",
      "1  Los Angeles               2\n",
      "2      Chicago               1\n",
      "        deptno  max_salary\n",
      "0      Chicago           1\n",
      "1  Los Angeles           2\n",
      "2     New York           2\n"
     ]
    }
   ],
   "source": [
    "df = pd.read_csv('salaries.csv')\n",
    "\n",
    "city_count = df['city'].value_counts().reset_index()\n",
    "city_count.columns = ['city', 'employee_count']\n",
    "print(city_count)\n",
    "city_count1 = df.groupby('city').count().reset_index()\n",
    "city_count1.columns = ['deptno', 'max_salary']\n",
    "print(city_count1)\n",
    "\n"
   ]
  },
  {
   "cell_type": "code",
   "execution_count": null,
   "id": "305f1dff",
   "metadata": {},
   "outputs": [],
   "source": []
  }
 ],
 "metadata": {
  "kernelspec": {
   "display_name": "Python 3 (ipykernel)",
   "language": "python",
   "name": "python3"
  },
  "language_info": {
   "codemirror_mode": {
    "name": "ipython",
    "version": 3
   },
   "file_extension": ".py",
   "mimetype": "text/x-python",
   "name": "python",
   "nbconvert_exporter": "python",
   "pygments_lexer": "ipython3",
   "version": "3.10.1"
  }
 },
 "nbformat": 4,
 "nbformat_minor": 5
}
